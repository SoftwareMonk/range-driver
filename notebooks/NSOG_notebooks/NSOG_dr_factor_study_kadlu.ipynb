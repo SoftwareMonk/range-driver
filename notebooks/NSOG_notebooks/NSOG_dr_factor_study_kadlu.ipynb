{
 "cells": [
  {
   "cell_type": "code",
   "execution_count": null,
   "metadata": {},
   "outputs": [],
   "source": [
    "# HTML output for this notebook can be produced using\n",
    "# jupyter nbconvert --to html --no-input notebook_name.ipynb\n",
    "# or\n",
    "# jupyter nbconvert --to pdf --no-input notebook_name.ipynb\n",
    "# edit title and authors in notebook metadata (e.g. jupyter lab / notebook tools / advanced)"
   ]
  },
  {
   "cell_type": "markdown",
   "metadata": {},
   "source": [
    "See [TODO.md](../TODO.md) for outstanding items."
   ]
  },
  {
   "cell_type": "markdown",
   "metadata": {},
   "source": [
    "This notebook contains the same functionality as `tidal_analysis_rt.ipynb`, but with all detail code extracted into the `../acoustic_tracking` package code folder.  For this notebook to run properly, ensure:\n",
    "* `acoustic_tracking` is downloaded and installed on your local machine according to the installation instructions\n",
    "* The `acoustic_env` conda environment has been activated"
   ]
  },
  {
   "cell_type": "markdown",
   "metadata": {},
   "source": [
    "Analysis of acoustic tracking performance using range test data obtained in the Northern Straight of Georgia near Comox, BC, between January 2018 and April 2019. \n",
    "\n",
    "Components of this notebook:\n",
    "\n",
    " * load detection events and deployment metadata about receivers and transmitters\n",
    " * analyse detections for each receiver/transmitter combination separately\n",
    " * calculate interval lengths between detections and detection rates within fixed time windows\n",
    " * calculate further metadata descriptions, e.g. distance between stations, R/T names involving distinctions such as near/far distance or high/low power\n",
    " * obtain further environmental variables from external data sources\n",
    " * produce different visualizations to study correlation of env. variables and operating conditions with detection rate\n",
    "\n",
    "**Data:** For most sources for environmental variables data has been collected for 3 hour intervals."
   ]
  },
  {
   "cell_type": "code",
   "execution_count": null,
   "metadata": {
    "ExecuteTime": {
     "end_time": "2020-11-17T18:00:23.463887Z",
     "start_time": "2020-11-17T18:00:20.689927Z"
    }
   },
   "outputs": [],
   "source": [
    "# Import packages\n",
    "# from acoustic_tracking import *\n",
    "import acoustic_tracking as at\n",
    "import copy\n",
    "import pandas as pd\n",
    "import kadlu\n",
    "from datetime import datetime\n",
    "import numpy as np\n",
    "import sys\n",
    "from scipy.interpolate import griddata\n",
    "import matplotlib.pyplot as plt\n",
    "from IPython.display import display, Markdown\n",
    "from matplotlib.pyplot import rcParams\n",
    "\n",
    "# Setup matplotlib inline plotting\n",
    "%matplotlib inline\n",
    "at.mpl_set_notebook_params()\n",
    "\n",
    "show_details = False"
   ]
  },
  {
   "cell_type": "code",
   "execution_count": null,
   "metadata": {},
   "outputs": [],
   "source": [
    "#at.reload_acoustic()"
   ]
  },
  {
   "cell_type": "code",
   "execution_count": null,
   "metadata": {},
   "outputs": [],
   "source": [
    "baseconfig = at.yload(at.load_file(\"../base_config.yaml\"))\n",
    "viewconfig = at.yload(at.load_file(\"../view_config.yaml\"))\n",
    "at.deep_update(baseconfig, viewconfig)\n",
    "\n",
    "rawconfig = at.yload(at.load_file(\"nsog_config.yaml\"))\n",
    "config = at.merge_dicts(baseconfig, rawconfig)\n",
    "at.prepare_config(config)"
   ]
  },
  {
   "cell_type": "code",
   "execution_count": null,
   "metadata": {},
   "outputs": [],
   "source": [
    "#print(at.ydump(config))"
   ]
  },
  {
   "cell_type": "code",
   "execution_count": null,
   "metadata": {
    "tags": [
     "remove_cell"
    ]
   },
   "outputs": [],
   "source": [
    "import kadlu\n",
    "from datetime import datetime\n",
    "\n",
    "import pandas as pd\n",
    "import numpy as np\n",
    "from IPython.display import Markdown, display\n",
    "import matplotlib.pyplot as plt\n",
    "import seaborn as sns\n",
    "\n",
    "# mpl.use('module://ipympl.backend_nbagg')\n",
    "#%matplotlib widget\n",
    "%matplotlib inline\n",
    "at.mpl_set_notebook_params()\n",
    "\n",
    "show_details = config.settings.show_details"
   ]
  },
  {
   "cell_type": "markdown",
   "metadata": {},
   "source": [
    "## Read Raw Detection Data & Metadata"
   ]
  },
  {
   "cell_type": "code",
   "execution_count": null,
   "metadata": {},
   "outputs": [],
   "source": [
    "# at.reload_acoustic()"
   ]
  },
  {
   "cell_type": "code",
   "execution_count": null,
   "metadata": {},
   "outputs": [],
   "source": [
    "detection_df, mdb = at.read_via_config(config)"
   ]
  },
  {
   "cell_type": "code",
   "execution_count": null,
   "metadata": {},
   "outputs": [],
   "source": [
    "if config.settings.otn_transmitter_patch:\n",
    "    at.otn_transmitter_patch_1(mdb)"
   ]
  },
  {
   "cell_type": "code",
   "execution_count": null,
   "metadata": {},
   "outputs": [],
   "source": [
    "df_dets, df_inits, _ = at.process_intervals(detection_df, mdb)"
   ]
  },
  {
   "cell_type": "code",
   "execution_count": null,
   "metadata": {},
   "outputs": [],
   "source": [
    "detection_df, event_bin_split = at.detection_rate_grid(df_dets, config.settings.time_bin_length, mdb)\n",
    "events_df, bins_df = at.split_by_index(detection_df, event_bin_split)"
   ]
  },
  {
   "cell_type": "markdown",
   "metadata": {},
   "source": [
    "# Group detection data by (Receiver, Transmitter) pairs\n",
    "\n",
    "A name is produced for each pairing that reflects their configuration, such as power level, tag family, distance - as determined by parsing the metadata."
   ]
  },
  {
   "cell_type": "code",
   "execution_count": null,
   "metadata": {},
   "outputs": [],
   "source": [
    "deploy_lat_lon = mdb.deploy.groupby('STATION_NO')[['DEPLOY_LAT','DEPLOY_LONG']].nth(0)\n",
    "mdb.station_dists_m = at.calc_station_dists_m(deploy_lat_lon)\n",
    "\n",
    "if \"Receiver/Transmitter\" not in mdb.rt_groups.columns:\n",
    "    at.add_rt_group_info(events_df, mdb)"
   ]
  },
  {
   "cell_type": "code",
   "execution_count": null,
   "metadata": {},
   "outputs": [],
   "source": [
    "if config.settings.show_details:\n",
    "    at.report_station_info(mdb)"
   ]
  },
  {
   "cell_type": "code",
   "execution_count": null,
   "metadata": {},
   "outputs": [],
   "source": [
    "if config.view.show_dr_plots:\n",
    "    at.displaymd(\"# Detection rate plots for data screening\")\n",
    "    for gn, tgroup in bins_df.reset_index().groupby(['Receiver','Transmitter']):\n",
    "        at.plot_group_dr(gn, tgroup, mdb)\n",
    "        plt.show()"
   ]
  },
  {
   "cell_type": "markdown",
   "metadata": {},
   "source": [
    "## Detection data is merged with environmental variables from kadlu\n",
    "\n",
    "[Kadlu](https://docs.meridian.cs.dal.ca/kadlu/index.html#) is a Python package which provides functionality for fetching and interpolating environmental data related to ocean ambient nose levels. The `acoustic_tracking` package provides users with the option to integrate environmental data from Kadlu with their own detection datasets. \n",
    "\n",
    "\n",
    "To extract environmental data from kadlu, you will need to specify (1) data sources and (2) bounds. Then, using these specifications you can use the `add_kadlu_env_data()` function to automatically extract and interpolate data using the kadlu Python package. "
   ]
  },
  {
   "cell_type": "markdown",
   "metadata": {},
   "source": [
    "### Data Sources\n",
    "A `sources` dictionary is used to specify the variables and data sources you want to retrieve using kadlu. To see a high level overview of available data sources, execute the command below. \n",
    "```python\n",
    "print(kadlu.source_map)\n",
    "``` "
   ]
  },
  {
   "cell_type": "code",
   "execution_count": null,
   "metadata": {
    "ExecuteTime": {
     "end_time": "2020-11-17T18:00:31.775521Z",
     "start_time": "2020-11-17T18:00:31.772499Z"
    }
   },
   "outputs": [],
   "source": [
    "print(kadlu.source_map)"
   ]
  },
  {
   "cell_type": "code",
   "execution_count": null,
   "metadata": {
    "ExecuteTime": {
     "end_time": "2020-11-17T18:47:09.169759Z",
     "start_time": "2020-11-17T18:47:09.165447Z"
    }
   },
   "outputs": [],
   "source": [
    "# List Sources\n",
    "sources = config.data.sources"
   ]
  },
  {
   "cell_type": "markdown",
   "metadata": {},
   "source": [
    "### Data Boundaries\n",
    "A `bounds` dictionary is used to specify the spatial and temporal boundaries for which you want to retrieve data. A `north`, `south`, `east`, and `west` value are provided to specify geospatial boundaries, while a `start` and `end` are used to specify temporal boundaries. Optionally, `top` and `bottom` values can be used to limit data to specific depths. "
   ]
  },
  {
   "cell_type": "code",
   "execution_count": null,
   "metadata": {
    "ExecuteTime": {
     "end_time": "2020-11-17T18:50:51.637455Z",
     "start_time": "2020-11-17T18:50:51.632573Z"
    }
   },
   "outputs": [],
   "source": [
    "# Define Bounds\n",
    "# Mahone Bay, NS\n",
    "\n",
    "lat_center = 44.5541333\n",
    "north_offset = 0.5\n",
    "south_offset = 2\n",
    "\n",
    "lon_center = -64.17682\n",
    "east_offset = 2\n",
    "west_offset = 2\n",
    "\n",
    "bounds = dict(start=datetime(2016, 3, 9), end=datetime(2016,3,11),\n",
    "              south=lat_center - south_offset, west=lon_center - west_offset, \n",
    "              north=lat_center + north_offset, east= lon_center + east_offset, \n",
    "              top=0, bottom=0)\n",
    "\n",
    "# OR\n",
    "\n",
    "bounds = config.bounds\n",
    "\n",
    "print(bounds)"
   ]
  },
  {
   "cell_type": "markdown",
   "metadata": {},
   "source": [
    "Sometimes, it can be helpful to have a map visualization of the boundaries you are setting. Here, you can use the `plot_bounds` function to see the boundaries you have specified. Optionally, you can provide receiver locations and metadata to the `plot_bounds` function as well. "
   ]
  },
  {
   "cell_type": "code",
   "execution_count": null,
   "metadata": {
    "ExecuteTime": {
     "end_time": "2020-11-17T18:47:18.647930Z",
     "start_time": "2020-11-17T18:47:18.570577Z"
    }
   },
   "outputs": [],
   "source": [
    "# Retrieve receiver information\n",
    "receiver_info = detection_df[['Receiver.lat', 'Receiver.lon', 'Receiver.ID', \n",
    "                              'Receiver', 'Receiver.depth']].drop_duplicates()\n",
    "receiver_locations_df = detection_df[['Receiver.lat', 'Receiver.lon']].drop_duplicates()\n",
    "receiver_locations = list(zip(receiver_locations_df['Receiver.lat'], receiver_locations_df['Receiver.lon']))\n",
    "\n",
    "try:\n",
    "    node_locs = set(list(zip(kadlu_result[1], kadlu_result[2])))\n",
    "except:\n",
    "    node_locs = []\n",
    "    print(\"Warning: no node locations available. Consider to run this cell again, after the next cell set result approprietly.\")\n",
    "\n",
    "at.plot_bounds(bounds, receiver_locations=receiver_locations, \n",
    "               receiver_info=receiver_info, node_locations=node_locs);"
   ]
  },
  {
   "cell_type": "markdown",
   "metadata": {},
   "source": [
    "### Add Environmental Variables from kadlu\n"
   ]
  },
  {
   "cell_type": "code",
   "execution_count": null,
   "metadata": {},
   "outputs": [],
   "source": [
    "df_detections_env, kadlu_result = at.add_kadlu_env_data(bounds, sources, detection_df)"
   ]
  },
  {
   "cell_type": "markdown",
   "metadata": {},
   "source": [
    "### Add further calculated columns and prepare for event/bin row split"
   ]
  },
  {
   "cell_type": "code",
   "execution_count": null,
   "metadata": {},
   "outputs": [],
   "source": [
    "event_bin_dfs = lambda df: at.split_by_index(df, event_bin_split)\n",
    "detection_events_df, detection_bins_df = event_bin_dfs(df_detections_env)\n",
    "rt_group_data = list(df_detections_env.groupby(['Receiver','Transmitter']))"
   ]
  },
  {
   "cell_type": "code",
   "execution_count": null,
   "metadata": {},
   "outputs": [],
   "source": [
    "columns, colnames, column = at.get_column_info(config)\n",
    "\n",
    "at.displaymd(\"# Plots of detection density and interval lengths <br/> against tidal phase (t2) and {}\".format(colnames[column]))"
   ]
  },
  {
   "cell_type": "code",
   "execution_count": null,
   "metadata": {},
   "outputs": [],
   "source": [
    "from acoustic_tracking.plotting import heatmaps\n",
    "\n",
    "#det_df = detection_events_df\n",
    "det_df = detection_bins_df\n",
    "\n",
    "features = det_df[['wavedir', 'waveheight', 'waveperiod','wind_uv', 'wind_u', 'wind_v', 'detection_rate']]\n",
    "\n",
    "heatmaps.plot_feature_heatmap(features, method='spearman');"
   ]
  },
  {
   "cell_type": "code",
   "execution_count": null,
   "metadata": {},
   "outputs": [],
   "source": []
  }
 ],
 "metadata": {
  "authors": [
   {
    "name": "Steven Bergner (SFU)"
   }
  ],
  "kernelspec": {
   "display_name": "Python 3",
   "language": "python",
   "name": "python3"
  },
  "language_info": {
   "codemirror_mode": {
    "name": "ipython",
    "version": 3
   },
   "file_extension": ".py",
   "mimetype": "text/x-python",
   "name": "python",
   "nbconvert_exporter": "python",
   "pygments_lexer": "ipython3",
   "version": "3.8.5"
  },
  "title": "Acoustic tracking performance analysis",
  "toc": {
   "base_numbering": 1,
   "nav_menu": {},
   "number_sections": true,
   "sideBar": true,
   "skip_h1_title": false,
   "title_cell": "Table of Contents",
   "title_sidebar": "Contents",
   "toc_cell": false,
   "toc_position": {},
   "toc_section_display": true,
   "toc_window_display": false
  },
  "varInspector": {
   "cols": {
    "lenName": 16,
    "lenType": 16,
    "lenVar": 40
   },
   "kernels_config": {
    "python": {
     "delete_cmd_postfix": "",
     "delete_cmd_prefix": "del ",
     "library": "var_list.py",
     "varRefreshCmd": "print(var_dic_list())"
    },
    "r": {
     "delete_cmd_postfix": ") ",
     "delete_cmd_prefix": "rm(",
     "library": "var_list.r",
     "varRefreshCmd": "cat(var_dic_list()) "
    }
   },
   "types_to_exclude": [
    "module",
    "function",
    "builtin_function_or_method",
    "instance",
    "_Feature"
   ],
   "window_display": false
  }
 },
 "nbformat": 4,
 "nbformat_minor": 4
}
