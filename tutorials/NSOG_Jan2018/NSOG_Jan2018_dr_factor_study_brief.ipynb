{
 "cells": [
  {
   "cell_type": "markdown",
   "metadata": {},
   "source": [
    "# Northern Strait of Georgia &mdash; January 2018\n",
    "This notebook walks through an example analysis of acoustic tracking performance using range test data from the Northern Strait of Georgia near Comox BC in January 2018. \n",
    "\n",
    "In this notebook we will: \n",
    "* Load configuration settings from yaml files\n",
    "* Create a `Detections` object by loading detection event data & receiver/transmitter deployment metadata, processing those detections, and adding in other environmental variables.  \n",
    "* Generate visual reports to assist in analysing what factors drive a transmitter tag's range. "
   ]
  },
  {
   "cell_type": "code",
   "execution_count": null,
   "metadata": {},
   "outputs": [],
   "source": [
    "import acoustic_tracking as at\n",
    "import pandas as pd\n",
    "\n",
    "%matplotlib inline\n",
    "at.mpl_set_notebook_params()"
   ]
  },
  {
   "cell_type": "markdown",
   "metadata": {},
   "source": [
    "## Load configuration from YAML files"
   ]
  },
  {
   "cell_type": "code",
   "execution_count": null,
   "metadata": {},
   "outputs": [],
   "source": [
    "baseconfig = at.yload(at.load_file(\"configs/base_config.yaml\"))\n",
    "viewconfig = at.yload(at.load_file(\"configs/view_config.yaml\"))\n",
    "at.deep_update(baseconfig, viewconfig)\n",
    "\n",
    "rawconfig = at.yload(at.load_file(\"configs/nsog_jan2018_config.yaml\"))\n",
    "config = at.merge_dicts(baseconfig, rawconfig)\n",
    "\n",
    "at.prepare_config(config)"
   ]
  },
  {
   "cell_type": "markdown",
   "metadata": {},
   "source": [
    "## Read Detections, Metadata, and Environmental Variables"
   ]
  },
  {
   "cell_type": "code",
   "execution_count": null,
   "metadata": {
    "scrolled": true
   },
   "outputs": [],
   "source": [
    "dets = at.Detections(config, do_processing=True)"
   ]
  },
  {
   "cell_type": "markdown",
   "metadata": {},
   "source": [
    "## Detail Reports"
   ]
  },
  {
   "cell_type": "code",
   "execution_count": null,
   "metadata": {
    "scrolled": true
   },
   "outputs": [],
   "source": [
    "at.report_group_info(dets)"
   ]
  },
  {
   "cell_type": "markdown",
   "metadata": {},
   "source": [
    "### Data Sources"
   ]
  },
  {
   "cell_type": "code",
   "execution_count": null,
   "metadata": {
    "ExecuteTime": {
     "end_time": "2020-11-17T18:47:09.169759Z",
     "start_time": "2020-11-17T18:47:09.165447Z"
    }
   },
   "outputs": [],
   "source": [
    "print(at.kadlu_source_map())\n",
    "print(\"Configured data sources:\\n\")\n",
    "print(at.ydump(config.data.sources))"
   ]
  },
  {
   "cell_type": "markdown",
   "metadata": {},
   "source": [
    "## Maps visualization\n",
    "Map view including region of interest bound, environmental data source nodes, receiver and tag locations."
   ]
  },
  {
   "cell_type": "code",
   "execution_count": null,
   "metadata": {},
   "outputs": [],
   "source": [
    "at.report_map_view(dets)"
   ]
  },
  {
   "cell_type": "markdown",
   "metadata": {},
   "source": [
    "## Heatmap Visualization of Features"
   ]
  },
  {
   "cell_type": "code",
   "execution_count": null,
   "metadata": {},
   "outputs": [],
   "source": [
    "at.report_heatmap(dets)"
   ]
  }
 ],
 "metadata": {
  "authors": [
   {
    "name": "Steven Bergner (SFU)"
   }
  ],
  "kernelspec": {
   "display_name": "Python 3",
   "language": "python",
   "name": "python3"
  },
  "language_info": {
   "codemirror_mode": {
    "name": "ipython",
    "version": 3
   },
   "file_extension": ".py",
   "mimetype": "text/x-python",
   "name": "python",
   "nbconvert_exporter": "python",
   "pygments_lexer": "ipython3",
   "version": "3.8.5"
  },
  "title": "Acoustic tracking performance analysis"
 },
 "nbformat": 4,
 "nbformat_minor": 4
}
