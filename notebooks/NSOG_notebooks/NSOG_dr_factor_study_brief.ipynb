{
 "cells": [
  {
   "cell_type": "markdown",
   "metadata": {},
   "source": [
    "# Range test analysis"
   ]
  },
  {
   "cell_type": "markdown",
   "metadata": {},
   "source": [
    "Analysis of acoustic tracking performance using range test data obtained in the Northern Straight of Georgia near Comox, BC, between January 2018 and April 2019. \n",
    "\n",
    "Components of this notebook:\n",
    "\n",
    " * load detection events and deployment metadata about receivers and transmitters\n",
    " * analyse detections for each receiver/transmitter combination separately\n",
    " * calculate interval lengths between detections and detection rates within fixed time windows\n",
    " * calculate further metadata descriptions, e.g. distance between stations, R/T names involving distinctions such as near/far distance or high/low power\n",
    " * obtain further environmental variables from external data sources\n",
    " * produce different visualizations to study correlation of env. variables and operating conditions with detection rate\n",
    "\n",
    "**Data:** For most sources for environmental variables data has been collected for 3 hour intervals."
   ]
  },
  {
   "cell_type": "markdown",
   "metadata": {},
   "source": [
    "See [installation instructions](../docs/install.md) on how to run this notebook."
   ]
  },
  {
   "cell_type": "code",
   "execution_count": null,
   "metadata": {},
   "outputs": [],
   "source": [
    "try:\n",
    "    import acoustic_tracking as at\n",
    "except ModuleNotFoundError:\n",
    "    from this_path import sys_path_append; sys_path_append(\"..\")\n",
    "    import acoustic_tracking as at\n",
    "    \n",
    "import pandas as pd\n",
    "%matplotlib inline\n",
    "at.mpl_set_notebook_params()"
   ]
  },
  {
   "cell_type": "markdown",
   "metadata": {},
   "source": [
    "## Obtain configuration from YAML files"
   ]
  },
  {
   "cell_type": "code",
   "execution_count": null,
   "metadata": {},
   "outputs": [],
   "source": [
    "baseconfig = at.yload(at.load_file(\"../base_config.yaml\"))\n",
    "viewconfig = at.yload(at.load_file(\"../view_config.yaml\"))\n",
    "at.deep_update(baseconfig, viewconfig)\n",
    "\n",
    "rawconfig = at.yload(at.load_file(\"nsog_config.yaml\"))\n",
    "config = at.merge_dicts(baseconfig, rawconfig)\n",
    "\n",
    "at.prepare_config(config)"
   ]
  },
  {
   "cell_type": "markdown",
   "metadata": {},
   "source": [
    "## Read Detections, Metadata, and Environmental Variables"
   ]
  },
  {
   "cell_type": "code",
   "execution_count": null,
   "metadata": {
    "scrolled": true
   },
   "outputs": [],
   "source": [
    "dets = at.Detections(config, do_processing=True)"
   ]
  },
  {
   "cell_type": "markdown",
   "metadata": {},
   "source": [
    "## Detail Reports"
   ]
  },
  {
   "cell_type": "code",
   "execution_count": null,
   "metadata": {
    "scrolled": true
   },
   "outputs": [],
   "source": [
    "at.report_group_info(dets)"
   ]
  },
  {
   "cell_type": "markdown",
   "metadata": {},
   "source": [
    "### Data Sources"
   ]
  },
  {
   "cell_type": "code",
   "execution_count": null,
   "metadata": {
    "ExecuteTime": {
     "end_time": "2020-11-17T18:47:09.169759Z",
     "start_time": "2020-11-17T18:47:09.165447Z"
    }
   },
   "outputs": [],
   "source": [
    "print(at.kadlu_source_map())\n",
    "print(\"Configured data sources:\\n\")\n",
    "print(at.ydump(config.data.sources))"
   ]
  },
  {
   "cell_type": "markdown",
   "metadata": {},
   "source": [
    "## Maps visualization\n",
    "Map view including region of interest bound, environmental data source nodes, receiver and tag locations."
   ]
  },
  {
   "cell_type": "code",
   "execution_count": null,
   "metadata": {},
   "outputs": [],
   "source": [
    "at.report_map_view(dets)"
   ]
  },
  {
   "cell_type": "code",
   "execution_count": null,
   "metadata": {},
   "outputs": [],
   "source": [
    "at.report_heatmap(dets)"
   ]
  }
 ],
 "metadata": {
  "authors": [
   {
    "name": "Steven Bergner (SFU)"
   }
  ],
  "kernelspec": {
   "display_name": "Python 3",
   "language": "python",
   "name": "python3"
  },
  "language_info": {
   "codemirror_mode": {
    "name": "ipython",
    "version": 3
   },
   "file_extension": ".py",
   "mimetype": "text/x-python",
   "name": "python",
   "nbconvert_exporter": "python",
   "pygments_lexer": "ipython3",
   "version": "3.8.5"
  },
  "title": "Acoustic tracking performance analysis"
 },
 "nbformat": 4,
 "nbformat_minor": 4
}
