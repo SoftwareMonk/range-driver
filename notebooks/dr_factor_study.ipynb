{
 "cells": [
  {
   "cell_type": "code",
   "execution_count": null,
   "metadata": {},
   "outputs": [],
   "source": [
    "# HTML output for this notebook can be produced using\n",
    "# jupyter nbconvert --to html --no-input notebook_name.ipynb\n",
    "# or\n",
    "# jupyter nbconvert --to pdf --no-input notebook_name.ipynb\n",
    "# edit title and authors in notebook metadata (e.g. jupyter lab / notebook tools / advanced)"
   ]
  },
  {
   "cell_type": "markdown",
   "metadata": {},
   "source": [
    "This notebook contains the same functionality as `tidal_analysis_rt.ipynb`, but with all detail code extracted into the `../acoustic_tracking` package code folder. "
   ]
  },
  {
   "cell_type": "markdown",
   "metadata": {},
   "source": [
    "Analysis of acoustic tracking performance using range test data obtained in Mahone Bay near Halifax, NS, by OTN field experiments during March-April 2016.\n",
    "\n",
    "Range test performance is determined with two methods:\n",
    "\n",
    "  1. by calculating interval lenghts between adjacent detection events,\n",
    "  1. by counting the number of detection events within some fixed time interval and normalizing against the expected number of detections.\n",
    "\n",
    "Components of this notebook:\n",
    "\n",
    " * process tidal data for the time period considering high/low tide times and the observed heights\n",
    " * determine tidal phase timing\n",
    " * perform cosine interpolation of heights\n",
    " * correlate detection performance against tidal phase\n",
    "\n",
    "**Data:** Beyond tidal data, environmental variables have been collected for 3 hour intervals. Water velocity is used from those variables to determine its potential effect on detection performance.\n",
    "\n",
    "Summary plots are presented separately for each receiver / transmitter combination at the end of this notebook."
   ]
  },
  {
   "cell_type": "code",
   "execution_count": null,
   "metadata": {},
   "outputs": [],
   "source": [
    "try:\n",
    "    from acoustic_tracking import *\n",
    "except:\n",
    "    from this_path import sys_path_append; sys_path_append(\"..\")\n",
    "    from acoustic_tracking import *"
   ]
  },
  {
   "cell_type": "code",
   "execution_count": null,
   "metadata": {
    "tags": [
     "remove_cell"
    ]
   },
   "outputs": [],
   "source": [
    "# mpl.use('module://ipympl.backend_nbagg')\n",
    "#%matplotlib widget\n",
    "%matplotlib inline\n",
    "\n",
    "rcParams['figure.figsize'] = 16, 8\n",
    "rcParams['font.size'] = 14\n",
    "rcParams[\"legend.framealpha\"] = 0.6\n",
    "rcParams['figure.dpi']= 300"
   ]
  },
  {
   "cell_type": "markdown",
   "metadata": {},
   "source": [
    "## Detection data is merged with environmental variables\n",
    "\n",
    "The current example merges HYCOM environmental data via **pre-processing that is not included in this notebook**.\n",
    "\n",
    "Automated data fetching is one of the TODO items in this project."
   ]
  },
  {
   "cell_type": "code",
   "execution_count": null,
   "metadata": {
    "tags": [
     "remove_cell"
    ]
   },
   "outputs": [],
   "source": [
    "df_detections_merged = pd.read_csv(repo_file_path(\"Range_Test_VUE_Export_detections_use.csv\", folder=\"\"))\n",
    "\n",
    "dt_format_str = \"%m/%d/%y %H:%M:%S\"\n",
    "df_detections_merged[\"datetime\"] = pd.to_datetime(df_detections_merged[\"Date and Time\"],\n",
    "                                                  format=dt_format_str)"
   ]
  },
  {
   "cell_type": "code",
   "execution_count": null,
   "metadata": {
    "tags": [
     "hide_input"
    ]
   },
   "outputs": [],
   "source": [
    "# TODO: source environmental data from pyERDAP or kadlu.fetch\n",
    "# TODO verify that time zones in entire notebook are used correctly\n",
    "df_detections_merged.head()"
   ]
  },
  {
   "cell_type": "markdown",
   "metadata": {},
   "source": [
    "# Determine tidal heights via interpolation of tidal time tables\n",
    "\n",
    "In addition to ocean and weather model data, historic tidal tables are available and used here to provide additional information about environmental cycles that could be factors of influence on the acoustic data."
   ]
  },
  {
   "cell_type": "code",
   "execution_count": null,
   "metadata": {},
   "outputs": [],
   "source": [
    "#dftt = pd.read_excel(file_path(\"Extracted_tidal_times_for_Halifax_2016.xlsx\"), 0)\n",
    "#print(\"Times are in UTC @ Halifax, Heights are in Centimetres @ Halifax\")"
   ]
  },
  {
   "cell_type": "code",
   "execution_count": null,
   "metadata": {},
   "outputs": [],
   "source": [
    "df_tidal_times = read_ods(repo_file_path(\"Extracted_tidal_times_for_Halifax_2016_2sheets.ods\"), 1)\n",
    "\n",
    "dflat = flatten_tidal_table(df_tidal_times, year=2016)\n",
    "dflat.to_csv(\"output_tidal_times_for_Halifax_2016_flat.csv\")\n",
    "\n",
    "printmd(\"\"\"\n",
    "## Tidal data for Halifax\n",
    "Linear interpolation\n",
    "\"\"\")\n",
    "dflat[\"height\"].plot()\n",
    "plt.ylabel(\"height (cm)\")\n",
    "plt.xlabel(None)\n",
    "plt.grid()"
   ]
  },
  {
   "cell_type": "code",
   "execution_count": null,
   "metadata": {},
   "outputs": [],
   "source": [
    "dfi = tidal_phase(dflat,\n",
    "                  new_times = df_detections_merged.datetime)\n",
    "#dfi"
   ]
  },
  {
   "cell_type": "code",
   "execution_count": null,
   "metadata": {},
   "outputs": [],
   "source": [
    "fname = \"output_tidal_times_for_Halifax_2016_5min.csv\"\n",
    "dfi.to_csv(fname)\n",
    "printmd(\"Wrote data to `{}`\".format(fname))"
   ]
  },
  {
   "cell_type": "code",
   "execution_count": null,
   "metadata": {},
   "outputs": [],
   "source": [
    "#end_datetime = \"2016-03-15 01:18\"\n",
    "with plt.rc_context({'figure.figsize': (16, 5), 'lines.linewidth': 2}):\n",
    "    end_datetime = dfi.index.max()\n",
    "    printmd(\"Display data until {}\".format(end_datetime))\n",
    "    dfi.loc[:end_datetime].height.plot()\n",
    "    dfi.loc[:end_datetime].dheight_cm_per_hr.plot()\n",
    "    (dfi.loc[:end_datetime].t*10).plot()\n",
    "    plt.title(\"Tidal data for Halifax with Cosine interpolation\")\n",
    "    plt.legend(loc=1)\n",
    "    plt.grid()"
   ]
  },
  {
   "cell_type": "markdown",
   "metadata": {},
   "source": [
    "The variable $t$ above indicate tidal phase within each of high-to-low and low-to-high portion. Its range is in $[0,1]$, but has been magnified by a factor of $10$ in the plot to show more clearly in comparison to the other variables.\n",
    "\n",
    "Below, a new variable $t2$ is introduced that ranges from $0$ to $2$, from high tide to the next high tide, with $1$ corresponding to low tide."
   ]
  },
  {
   "cell_type": "code",
   "execution_count": null,
   "metadata": {},
   "outputs": [],
   "source": [
    "dfmm = df_detections_merged.merge(dfi[[\"t2\",\"height\",\"dheight_cm_per_hr\"]], left_on=\"datetime\", right_index=True)"
   ]
  },
  {
   "cell_type": "code",
   "execution_count": null,
   "metadata": {},
   "outputs": [],
   "source": [
    "dj = dfmm.set_index(\"datetime\").sort_index()\n",
    "del dj[\"Date\"], dj[\"Time\"], dj[\"Date and Time\"]"
   ]
  },
  {
   "cell_type": "markdown",
   "metadata": {},
   "source": [
    "# Group detection data by distinct \"Receiver\", \"Transmitter\" pairs\n",
    "Later, each of these groups is analysed separately.\n",
    "A name is produced for each pairing that reflects their configuration, such as power level, tag family, distance - as determined by parsing the metadata."
   ]
  },
  {
   "cell_type": "code",
   "execution_count": null,
   "metadata": {},
   "outputs": [],
   "source": [
    "djg = dj.groupby([\"Receiver\",\"Transmitter\"])\n",
    "groups = [djg.get_group(x) for x in djg.groups]\n",
    "# list(map(len, groups))\n",
    "\n",
    "# groups is a list of DataFrames that have the respective detections."
   ]
  },
  {
   "cell_type": "markdown",
   "metadata": {},
   "source": [
    "# Receiver / Transmitter metadata"
   ]
  },
  {
   "cell_type": "code",
   "execution_count": null,
   "metadata": {},
   "outputs": [],
   "source": [
    "dfmeta = pd.read_csv(repo_file_path(\"range_test_raw.csv\"))"
   ]
  },
  {
   "cell_type": "markdown",
   "metadata": {},
   "source": [
    "File `range_test_raw.csv` does not have further metainfo merged in. This will be fixed with additional code, below."
   ]
  },
  {
   "cell_type": "code",
   "execution_count": null,
   "metadata": {},
   "outputs": [],
   "source": [
    "dfmeta.head()"
   ]
  },
  {
   "cell_type": "markdown",
   "metadata": {},
   "source": [
    "## Ingest metadata, data dictionary, and deployment info\n",
    "\n",
    "* Load data sheets\n",
    "* Correct column names, convert integers, convert datetimes\n",
    "* Merge Recv/Tag info with meta data, calculate geodesic distances\n"
   ]
  },
  {
   "cell_type": "code",
   "execution_count": null,
   "metadata": {},
   "outputs": [],
   "source": [
    "metadata_file = repo_file_path(\"metadata-from-initial-range-test.xls\")\n",
    "mdb = make_Bunch(\"Container for metadata\")\n",
    "mdb.datadict, mdb.deploy = read_otn_metadata(metadata_file)"
   ]
  },
  {
   "cell_type": "code",
   "execution_count": null,
   "metadata": {},
   "outputs": [],
   "source": [
    "display(Markdown(\"### Data dictionary\"))\n",
    "display_full_df(mdb.datadict)\n",
    "display(Markdown(\"### Deployment info\"))\n",
    "display_full_df(mdb.deploy)"
   ]
  },
  {
   "cell_type": "code",
   "execution_count": null,
   "metadata": {},
   "outputs": [],
   "source": [
    "deploy_lat_lon = mdb.deploy.groupby('STATION_NO')[['DEPLOY_LAT','DEPLOY_LONG']].nth(0)\n",
    "\n",
    "mdb.station_dists_m = calc_station_dists_m(deploy_lat_lon)\n",
    "display(Markdown(\"\"\"### Station distances\n",
    "* geodesic\n",
    "* in meters\n",
    "* ignoring depth difference\n",
    "\n",
    "Distance between stations 2 and 3 does not occur in detections, since there are no receivers at these stations.\n",
    "\"\"\"))\n",
    "mdb.station_dists_m"
   ]
  },
  {
   "cell_type": "markdown",
   "metadata": {},
   "source": [
    "### Processing of other metadata (custom format defined by SFU)\n",
    "\n",
    "The first part of metadata stems from vendor CSV files, simply copying the relevant rows from different source CSVs into one table.\n",
    "This contains High and Low power mode. This information is missing from the other metadata that is loaded later."
   ]
  },
  {
   "cell_type": "code",
   "execution_count": null,
   "metadata": {},
   "outputs": [],
   "source": [
    "tag_specs_df = pd.read_excel(repo_file_path(\"tag-specs-Mahone-Bay-range-test\", \"tag-summary-mahone-bay-range-test.xls\"))\n",
    "tag_specs = clean_vendor_tag_specs(tag_specs_df)\n",
    "tag_specs"
   ]
  },
  {
   "cell_type": "code",
   "execution_count": null,
   "metadata": {},
   "outputs": [],
   "source": [
    "display(Markdown(\"\"\"### Merge tag ID Code with INS_SERIAL_NO to get metadata\n",
    "The tags that have missing info here, turn out to be unimportant later, due to insufficient detection count.\n",
    "\"\"\"))\n",
    "iname = tag_specs.index.name\n",
    "tag_specs_merged = tag_specs.reset_index().merge(mdb.deploy, 'left', left_on='ID Code', right_on='INS_SERIAL_NO').set_index(iname)\n",
    "mdb.tag_specs = tag_specs_merged\n",
    "\n",
    "display_full_df(tag_specs_merged)"
   ]
  },
  {
   "cell_type": "code",
   "execution_count": null,
   "metadata": {},
   "outputs": [],
   "source": [
    "gsdf = get_all_group_info(groups, mdb)"
   ]
  },
  {
   "cell_type": "code",
   "execution_count": null,
   "metadata": {},
   "outputs": [],
   "source": [
    "gsdf"
   ]
  },
  {
   "cell_type": "code",
   "execution_count": null,
   "metadata": {},
   "outputs": [],
   "source": [
    "d_min, d_max = gsdf['dist_m'].max(), gsdf['dist_m'].min()\n",
    "dist_th = np.mean((d_min, d_max))\n",
    "def dist_str(dist):\n",
    "    return dist_str_th(dist, dist_th)\n",
    "gsdf['Receiver/Transmitter'] = gsdf['Receiver/Transmitter'] + \"-\" + gsdf['dist_m'].apply(dist_str)"
   ]
  },
  {
   "cell_type": "code",
   "execution_count": null,
   "metadata": {},
   "outputs": [],
   "source": [
    "printmd(\"\"\"# Summary of detections by Receiver/Transmitter pair\n",
    "**R/T name format:**  \n",
    "Receiver/Transmitter/Tag Family/Power(H,L)/Distance(Near,Far)\n",
    "\n",
    "**Distances:**  \n",
    "near = %.2f m  \n",
    "far = %.2f m\n",
    "\"\"\" % (d_min, d_max))\n",
    "\n",
    "gsdf.sort_values(by=\"Receiver/Transmitter\", ascending=False)"
   ]
  },
  {
   "cell_type": "code",
   "execution_count": null,
   "metadata": {},
   "outputs": [],
   "source": [
    "# -- preparation for plotting section --"
   ]
  },
  {
   "cell_type": "code",
   "execution_count": null,
   "metadata": {},
   "outputs": [],
   "source": [
    "# import imp; import acoustic_tracking; imp.reload(acoustic_tracking); from acoustic_tracking import *"
   ]
  },
  {
   "cell_type": "code",
   "execution_count": null,
   "metadata": {},
   "outputs": [],
   "source": [
    "columns = ['salinity_bottom', 'water_temp_bottom', 'water_u_bottom', 'water_v_bottom',\n",
    "            'salinity', 'water_temp', 'water_u', 'water_v']\n",
    "colnames = dict(zip(columns, list(s.replace(\"_\", \" \") for s in columns)))\n",
    "colnames.update({'water_vel':'water velocity',\n",
    "                 'water_vel_bottom':'water velocity bottom'})\n",
    "column = 'water_vel'"
   ]
  },
  {
   "cell_type": "code",
   "execution_count": null,
   "metadata": {},
   "outputs": [],
   "source": [
    "printmd(\"# Plots of detection density and interval lengths <br/> against tidal phase (t2) and {}\".format(colnames[column]))"
   ]
  },
  {
   "cell_type": "code",
   "execution_count": null,
   "metadata": {},
   "outputs": [],
   "source": [
    "rcParams['figure.figsize'] = 16, 5\n",
    "rcParams['font.size'] = 11\n",
    "rcParams['figure.max_open_warning'] = 50\n",
    "\n",
    "params = make_Bunch(\"Detection processing parameters\")\n",
    "params.t2bin_stepsize = 0.05\n",
    "params.t2bins = np.arange(0, 2+1e-4, params.t2bin_stepsize)\n",
    "params.base_interval_cutoff = 2**9\n",
    "params.mean_ping_interval = 300 # sec\n",
    "params.num_time_bins = 200\n",
    "params.MIN_DETECTIONS = 100 # skip receiver/transmitter combinations that have less than this number of detections\n",
    "params.rt_name_dist = lambda gr: rt_name(gr, mdb, dist_str)\n",
    "params.mdr_params = make_Bunch(\"make_detection_rate parameters\",\n",
    "                               exp_interval_s=params.mean_ping_interval, num_time_bins=params.num_time_bins)\n",
    "# technically, outputs are not parameters, might separate that later\n",
    "params.out = make_Bunch(\"State and output of detection processing\",\n",
    "                        interval_all = np.zeros(len(params.t2bins)-1))\n",
    "# column is defined above\n",
    "column_name = (column, colnames[column])\n",
    "\n",
    "skipmsg = False\n",
    "# each group contains all detections for a particular receiver/transmitter combination\n",
    "for gr in groups:\n",
    "    if len(gr) < params.MIN_DETECTIONS:\n",
    "        if not skipmsg:\n",
    "            printmd(\"**Skipping receiver/transmitter combinations that have insufficient detections:**\")\n",
    "            skipmsg = True\n",
    "        printmd(\"{}\".format(params.rt_name_dist(gr)))\n",
    "        continue\n",
    "    \n",
    "    # add interval length and water velocity calculations to dataframe\n",
    "    tdfok, cutoff_t, tdf = clean_detections(gr, params, column_name=column_name)\n",
    "    # TODO add tdfok to list for later pd.concat\n",
    "\n",
    "    if True:\n",
    "        plot_with_dr(tdfok, params, column_name=column_name)\n",
    "\n",
    "    fig, axs = plt.subplots(nrows=1, ncols=3)\n",
    "    fig.suptitle(params.rt_name_dist(gr))\n",
    "\n",
    "    plot_tidal_phase(tdfok, ax=axs[0])\n",
    "\n",
    "    plot_with_detection_count(params.out.tdfcount, params.out.tdfmean,\n",
    "                              params, column_name=column_name,\n",
    "                              ax=axs[0])    # interval lengths over date range\n",
    "    if True:\n",
    "        # comparison in single plot\n",
    "        plot_with_detection_interval(tdfok, params, column_name=column_name, ax=axs[1])\n",
    "        #ax = tdfmean.plot(\"t2\",\"interval\", alpha=1, ax=ax1, c=\"darkgrey\", linewidth=2)\n",
    "    elif False:\n",
    "        # old plot type focussing on interval lengths rather than DR\n",
    "        plot_with_detection_interval_and_rate(tdfok, params, column_name=column_name, ax=axs[1])\n",
    "    else:\n",
    "        # stacked plot for comparison of quantities\n",
    "        plot_stack_with_dr(tdfok, params, column_name=column_name, mainax=axs[1])\n",
    "\n",
    "    plot_per_detection_density(tdfok, params, column_name=column_name, ax=axs[2])\n",
    "    plt.subplots_adjust(wspace=.3)"
   ]
  },
  {
   "cell_type": "markdown",
   "metadata": {},
   "source": [
    "# Discussion\n",
    "\n",
    "In the above visual summary, the **H-N** combinations, i.e. high-power, near distance, are the ones where water velocity shows the least effect on variations in detection rate (detection density). This confirms expectations and shows promise for the proposed study method. Next steps include:\n",
    "\n",
    "- Continue to work with detection rate (DR) as calculated in a fixed grid of time windows\n",
    "- Compare variations of DR with respect to other environmental variables\n",
    "- Import other environmental variables automatically via data source APIs (ERDDAP, kadlu.fetch)\n",
    "- Determine suitable numerical measure of factor importance in addition to visual analysis \n"
   ]
  },
  {
   "cell_type": "markdown",
   "metadata": {},
   "source": [
    "# Acknowledgements\n",
    "\n",
    "The above analysis was performed using [data from OTN](http://members.devel.oceantrack.org/erddap/tabledap/otnunit_aat_detections.html) (provided by Jonathan Pye of OTN), in combination with HYCOM environmental data and tidal data provided by Casey Hilliard (Meridian/Dal), with a synthesized dataset prepared by Matthew Berkowitz (SFU), with project definition and guidance provided by Oliver Kirsebom (Dal) and Ines Hessler (Dal) as part of the [Meridian Network](https://meridian.cs.dal.ca)."
   ]
  },
  {
   "cell_type": "code",
   "execution_count": null,
   "metadata": {},
   "outputs": [],
   "source": []
  }
 ],
 "metadata": {
  "authors": [
   {
    "name": "Steven Bergner (SFU)"
   }
  ],
  "kernelspec": {
   "display_name": "Python 3",
   "language": "python",
   "name": "python3"
  },
  "language_info": {
   "codemirror_mode": {
    "name": "ipython",
    "version": 3
   },
   "file_extension": ".py",
   "mimetype": "text/x-python",
   "name": "python",
   "nbconvert_exporter": "python",
   "pygments_lexer": "ipython3",
   "version": "3.8.5"
  },
  "title": "Acoustic tracking performance analysis"
 },
 "nbformat": 4,
 "nbformat_minor": 4
}
